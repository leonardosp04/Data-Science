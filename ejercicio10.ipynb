{
  "metadata": {
    "kernelspec": {
      "name": "python",
      "display_name": "Python (Pyodide)",
      "language": "python"
    },
    "language_info": {
      "codemirror_mode": {
        "name": "python",
        "version": 3
      },
      "file_extension": ".py",
      "mimetype": "text/x-python",
      "name": "python",
      "nbconvert_exporter": "python",
      "pygments_lexer": "ipython3",
      "version": "3.8"
    }
  },
  "nbformat_minor": 4,
  "nbformat": 4,
  "cells": [
    {
      "cell_type": "code",
      "source": "objetivos = [\n    \"Aprender Python\",\n    \"Dominar Pandas\",\n    \"Mejorar habilidades de visualización de datos\",\n    \"Practicar el modelado de datos\",\n    \"Explorar técnicas de aprendizaje automático\"\n]\nprint(\"Objetivos:\")\nfor objetivo in objetivos:\n    print(\"-\", objetivo)",
      "metadata": {
        "trusted": true
      },
      "outputs": [
        {
          "name": "stdout",
          "text": "Objetivos:\n- Aprender Python\n- Dominar Pandas\n- Mejorar habilidades de visualización de datos\n- Practicar el modelado de datos\n- Explorar técnicas de aprendizaje automático\n",
          "output_type": "stream"
        }
      ],
      "execution_count": 1
    },
    {
      "cell_type": "code",
      "source": "",
      "metadata": {
        "trusted": true
      },
      "outputs": [],
      "execution_count": null
    }
  ]
}