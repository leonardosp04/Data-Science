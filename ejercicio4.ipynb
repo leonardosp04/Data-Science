{
  "metadata": {
    "kernelspec": {
      "name": "python",
      "display_name": "Python (Pyodide)",
      "language": "python"
    },
    "language_info": {
      "codemirror_mode": {
        "name": "python",
        "version": 3
      },
      "file_extension": ".py",
      "mimetype": "text/x-python",
      "name": "python",
      "nbconvert_exporter": "python",
      "pygments_lexer": "ipython3",
      "version": "3.8"
    }
  },
  "nbformat_minor": 4,
  "nbformat": 4,
  "cells": [
    {
      "cell_type": "code",
      "source": "#Lenguajes de la Ciencia de Datos\n#A continuacion se enumeran los lenguajes de programacion mas utilizados:\n#1. Python\n#2. R\n#3. SQL\n#4. Julio\n#5. Java\n#6. C++",
      "metadata": {
        "trusted": true
      },
      "outputs": [],
      "execution_count": null
    },
    {
      "cell_type": "code",
      "source": "print('Lenguajes de la Ciencia de Datos')\nprint('A continuacion se enumeran los lenguajes de programacion mas utilizados:')\nprint('1. Python\\n2. R\\n3. SQL\\n4. Julio\\n5. Java\\n6. C++')",
      "metadata": {
        "trusted": true
      },
      "outputs": [
        {
          "name": "stdout",
          "text": "Lenguajes de la Ciencia de Datos\nA continuacion se enumeran los lenguajes de programacion mas utilizados:\n1. Python\n2. R\n3. SQL\n4. Julio\n5. Java\n6. C++\n",
          "output_type": "stream"
        }
      ],
      "execution_count": 1
    },
    {
      "cell_type": "code",
      "source": "",
      "metadata": {
        "trusted": true
      },
      "outputs": [],
      "execution_count": null
    }
  ]
}