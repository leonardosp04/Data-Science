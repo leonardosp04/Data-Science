{
  "metadata": {
    "kernelspec": {
      "name": "python",
      "display_name": "Python (Pyodide)",
      "language": "python"
    },
    "language_info": {
      "codemirror_mode": {
        "name": "python",
        "version": 3
      },
      "file_extension": ".py",
      "mimetype": "text/x-python",
      "name": "python",
      "nbconvert_exporter": "python",
      "pygments_lexer": "ipython3",
      "version": "3.8"
    }
  },
  "nbformat_minor": 4,
  "nbformat": 4,
  "cells": [
    {
      "cell_type": "code",
      "source": "# Herramientas de Ciencia de Datos\n\n#| Nombre            | Descripción                                                                               |\n#|-------------------|-------------------------------------------------------------------------------------------|\n#| Python            | Lenguaje de programación popular para ciencia de datos.                                     |\n#| R                 | Lenguaje de programación estadística ampliamente utilizado.                                 |\n#| Jupyter Notebook  | Entorno interactivo para crear documentos que contienen código, visualizaciones y texto.   |\n#| Anaconda          | Distribución de Python que incluye muchas bibliotecas de ciencia de datos preinstaladas.   |\n#| MATLAB            | Entorno de programación y manipulación de datos ampliamente utilizado en ingeniería.       |\n#| Tableau           | Herramienta de visualización de datos y análisis empresarial.                               |\n#| SAS               | Software utilizado para análisis estadístico y minería de datos.                            |\n#| Microsoft Excel   | Hoja de cálculo ampliamente utilizada para análisis de datos.                               |",
      "metadata": {
        "trusted": true
      },
      "outputs": [],
      "execution_count": 2
    },
    {
      "cell_type": "code",
      "source": "",
      "metadata": {
        "trusted": true
      },
      "outputs": [],
      "execution_count": null
    }
  ]
}