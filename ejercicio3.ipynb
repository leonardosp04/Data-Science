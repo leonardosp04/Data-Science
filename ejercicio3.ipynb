{
  "metadata": {
    "kernelspec": {
      "name": "python",
      "display_name": "Python (Pyodide)",
      "language": "python"
    },
    "language_info": {
      "codemirror_mode": {
        "name": "python",
        "version": 3
      },
      "file_extension": ".py",
      "mimetype": "text/x-python",
      "name": "python",
      "nbconvert_exporter": "python",
      "pygments_lexer": "ipython3",
      "version": "3.8"
    }
  },
  "nbformat_minor": 4,
  "nbformat": 4,
  "cells": [
    {
      "cell_type": "code",
      "source": "#Introduccion a Data Science\n#En esta libreria se exploraran diversos conceptos basicos relacionados a la ciencia de datos\n\n#Contenido de la libreria\n#1. Introduccion a Python y Jupiter Notebook\n#2. Carga y exploracion de datos\n#3. Limpieza y preprocesamiento de datos\n#4. Visualizacion de datos\n#5. Modelo predictivo\n#6. Evaluacion de modelos y analisis estadisticos",
      "metadata": {
        "trusted": true
      },
      "outputs": [],
      "execution_count": 1
    },
    {
      "cell_type": "code",
      "source": "",
      "metadata": {
        "trusted": true
      },
      "outputs": [],
      "execution_count": null
    }
  ]
}