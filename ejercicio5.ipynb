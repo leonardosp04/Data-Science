{
  "metadata": {
    "kernelspec": {
      "name": "python",
      "display_name": "Python (Pyodide)",
      "language": "python"
    },
    "language_info": {
      "codemirror_mode": {
        "name": "python",
        "version": 3
      },
      "file_extension": ".py",
      "mimetype": "text/x-python",
      "name": "python",
      "nbconvert_exporter": "python",
      "pygments_lexer": "ipython3",
      "version": "3.8"
    }
  },
  "nbformat_minor": 4,
  "nbformat": 4,
  "cells": [
    {
      "cell_type": "code",
      "source": "#Bibliotecas de la Ciencia de Datos\n#A continuacion se enumeran las bibliotecas mas utilizados:\n#1. NumPy\n#2. Pandas\n#3. Matplotib\n#4. Seaborn\n#5. Keras\n#6. PyTorch",
      "metadata": {
        "trusted": true
      },
      "outputs": [],
      "execution_count": null
    },
    {
      "cell_type": "code",
      "source": "print('Bibliotecas de la Ciencia de Datos')\nprint('A continuacion se enumeran lasbibliotecas mas utilizados:')\nprint('1. NumPy\\n2. Pandas\\n3. Matplotib\\n4. Seaborn\\n5. Keras\\n6. PyTorch')",
      "metadata": {
        "trusted": true
      },
      "outputs": [],
      "execution_count": null
    }
  ]
}